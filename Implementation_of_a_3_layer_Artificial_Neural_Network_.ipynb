{
  "nbformat": 4,
  "nbformat_minor": 0,
  "metadata": {
    "anaconda-cloud": {},
    "kernelspec": {
      "display_name": "Python 3",
      "language": "python",
      "name": "python3"
    },
    "language_info": {
      "codemirror_mode": {
        "name": "ipython",
        "version": 3
      },
      "file_extension": ".py",
      "mimetype": "text/x-python",
      "name": "python",
      "nbconvert_exporter": "python",
      "pygments_lexer": "ipython3",
      "version": "3.7.4"
    },
    "colab": {
      "provenance": []
    }
  },
  "cells": [
    {
      "cell_type": "markdown",
      "metadata": {
        "id": "hvYwUMw4EZeH"
      },
      "source": [
        "## Implementation of a 3-layer Artificial Neural Network and some experiments\n"
      ]
    },
    {
      "cell_type": "code",
      "metadata": {
        "id": "4JEBC9tZEZel"
      },
      "source": [
        "# we first load the famous 'MNIST' handwriting recognition data set\n",
        "\n",
        "from sklearn.datasets import fetch_openml\n",
        "from sklearn.model_selection import train_test_split\n",
        "\n",
        "\n",
        "X, y = fetch_openml('mnist_784', version=1, return_X_y=True)\n",
        "y = y.astype(int)\n",
        "X = ((X / 255.) - .5) * 2\n",
        "X_train, X_test, y_train, y_test = train_test_split(\n",
        "    X, y, test_size=10000, random_state=123, stratify=y)\n"
      ],
      "execution_count": null,
      "outputs": []
    },
    {
      "cell_type": "code",
      "source": [
        "# convert both train and test sets to Numpy arrays\n",
        "X_train = X_train.to_numpy()\n",
        "X_test = X_test.to_numpy()"
      ],
      "metadata": {
        "id": "WB1Vsl00j7sh"
      },
      "execution_count": null,
      "outputs": []
    },
    {
      "cell_type": "markdown",
      "source": [
        "# <font color = 'blue'> check the shape of \"X_train\" and \"X_test\"**</font>\n",
        "\n",
        "\n"
      ],
      "metadata": {
        "id": "k6mz-B3umNBU"
      }
    },
    {
      "cell_type": "code",
      "metadata": {
        "id": "uKP4PDX_J0BN"
      },
      "source": [
        "print(X_train.shape)\n",
        "print(X_test.shape)\n"
      ],
      "execution_count": null,
      "outputs": []
    },
    {
      "cell_type": "markdown",
      "metadata": {
        "id": "FbZooPiUEZen"
      },
      "source": [
        "# Classifying handwritten digits"
      ]
    },
    {
      "cell_type": "markdown",
      "metadata": {
        "id": "82ezGN9dEZe2"
      },
      "source": [
        "# <font color = 'blue'> **Visualize the first digit of each class:** </font>"
      ]
    },
    {
      "cell_type": "code",
      "metadata": {
        "id": "HvzhCkFvEZe2"
      },
      "source": [
        "import matplotlib.pyplot as plt\n",
        "\n",
        "fig, ax = plt.subplots(nrows=2, ncols=5, sharex=True, sharey=True)\n",
        "ax = ax.flatten()\n",
        "for i in range(10):\n",
        "    img = X_train[y_train == i][0].reshape(28, 28)\n",
        "    ax[i].imshow(img, cmap='Greys')\n",
        "\n",
        "ax[0].set_xticks([])\n",
        "ax[0].set_yticks([])\n",
        "plt.tight_layout()\n",
        "\n",
        "plt.show()\n",
        "\n",
        "\n",
        "\n"
      ],
      "execution_count": null,
      "outputs": []
    },
    {
      "cell_type": "markdown",
      "metadata": {
        "id": "-liCZiEYEZe5"
      },
      "source": [
        "#<font color = 'blue'> **Visualize 25 different versions of \"7\":**</font>"
      ]
    },
    {
      "cell_type": "code",
      "metadata": {
        "scrolled": true,
        "id": "E0Lgmq1EEZe6"
      },
      "source": [
        "fig, ax = plt.subplots(nrows=5, ncols=5, sharex=True, sharey=True,)\n",
        "ax = ax.flatten()\n",
        "for i in range(25):\n",
        "    img = X_train[y_train == 7][i].reshape(28, 28)\n",
        "    ax[i].imshow(img, cmap='Greys')\n",
        "\n",
        "ax[0].set_xticks([])\n",
        "ax[0].set_yticks([])\n",
        "plt.tight_layout()\n",
        "# plt.savefig('images/12_6.png', dpi=300)\n",
        "plt.show()\n",
        "\n"
      ],
      "execution_count": null,
      "outputs": []
    },
    {
      "cell_type": "code",
      "metadata": {
        "id": "24zEWXu1EZe8"
      },
      "source": [
        "\n",
        "'''\n",
        "import numpy as np\n",
        "\n",
        "np.savez_compressed('mnist_scaled.npz',\n",
        "                    X_train=X_train,\n",
        "                    y_train=y_train,\n",
        "                    X_test=X_test,\n",
        "                    y_test=y_test)\n",
        "'''\n"
      ],
      "execution_count": null,
      "outputs": []
    },
    {
      "cell_type": "code",
      "metadata": {
        "id": "3qzCOnuiEZe-"
      },
      "source": [
        "## here is how to load a previously saved data set\n",
        "\n",
        "#mnist = np.load('mnist_scaled.npz')\n",
        "#mnist.files"
      ],
      "execution_count": null,
      "outputs": []
    },
    {
      "cell_type": "code",
      "metadata": {
        "id": "TVjfwguJEZfA"
      },
      "source": [
        "## and now put them back in variables\n",
        "\n",
        "#'''\n",
        "#X_train, y_train, X_test, y_test = [mnist[f] for f in ['X_train', 'y_train',\n",
        "#                                    'X_test', 'y_test']]\n",
        "\n",
        "#del mnist\n",
        "\n",
        "#X_train.shape"
      ],
      "execution_count": null,
      "outputs": []
    },
    {
      "cell_type": "markdown",
      "metadata": {
        "id": "08WsUHwmEZfC"
      },
      "source": [
        "## Implementing a multi-layer perceptron"
      ]
    },
    {
      "cell_type": "code",
      "metadata": {
        "id": "t6t-yEGZEZfD"
      },
      "source": [
        "import numpy as np\n",
        "import sys\n",
        "\n",
        "\n",
        "class NeuralNetMLP(object):\n",
        "    \"\"\" Feedforward neural network / Multi-layer perceptron classifier.\n",
        "\n",
        "    Parameters\n",
        "    ------------\n",
        "    n_hidden : int (default: 30)\n",
        "        Number of hidden units.\n",
        "    l2 : float (default: 0.)\n",
        "        Lambda value for L2-regularization.\n",
        "        No regularization if l2=0. (default)\n",
        "    epochs : int (default: 100)\n",
        "        Number of passes over the training set.\n",
        "    eta : float (default: 0.001)\n",
        "        Learning rate.\n",
        "    shuffle : bool (default: True)\n",
        "        Shuffles training data every epoch if True to prevent circles.\n",
        "    minibatch_size : int (default: 1)\n",
        "        Number of training examples per minibatch.\n",
        "    seed : int (default: None)\n",
        "        Random seed for initializing weights and shuffling.\n",
        "\n",
        "    Attributes\n",
        "    -----------\n",
        "    eval_ : dict\n",
        "      Dictionary collecting the cost, training accuracy,\n",
        "      and validation accuracy for each epoch during training.\n",
        "\n",
        "    \"\"\"\n",
        "    def __init__(self, n_hidden=30,\n",
        "                 l2=0., epochs=100, eta=0.001,\n",
        "                 shuffle=True, minibatch_size=1, seed=None):\n",
        "\n",
        "        self.random = np.random.RandomState(seed)\n",
        "        self.n_hidden = n_hidden\n",
        "        self.l2 = l2\n",
        "        self.epochs = epochs\n",
        "        self.eta = eta\n",
        "        self.shuffle = shuffle\n",
        "        self.minibatch_size = minibatch_size\n",
        "\n",
        "    def _sigmoid(self,z):\n",
        "      return 1. / (1. + np.exp(-np.clip(z, -250, 250)))\n",
        "\n",
        "    def _onehot(self, y, n_classes):\n",
        "        \"\"\"Encode labels into one-hot representation\n",
        "\n",
        "        Parameters\n",
        "        ------------\n",
        "        y : array, shape = [n_examples]\n",
        "            Target values.\n",
        "\n",
        "        Returns\n",
        "        -----------\n",
        "        onehot : array, shape = (n_examples, n_labels)\n",
        "\n",
        "        \"\"\"\n",
        "        onehot = np.zeros((n_classes, y.shape[0]))\n",
        "        for idx, val in enumerate(y.astype(int)):\n",
        "            onehot[val, idx] = 1.\n",
        "        return onehot.T\n",
        "\n",
        "\n",
        "    def _forward(self, X):\n",
        "        \"\"\"Compute forward propagation step\"\"\"\n",
        "\n",
        "        # step 1: net input of hidden layer\n",
        "        # [n_examples, n_features] dot [n_features, n_hidden]\n",
        "        # -> [n_examples, n_hidden]\n",
        "        z_h = np.dot(X, self.w_h) + self.b_h\n",
        "\n",
        "        # step 2: activation of hidden layer\n",
        "        a_h = self._sigmoid(z_h)\n",
        "\n",
        "        # step 3: net input of output layer\n",
        "        # [n_examples, n_hidden] dot [n_hidden, n_classlabels]\n",
        "        # -> [n_examples, n_classlabels]\n",
        "\n",
        "        z_out = np.dot(a_h, self.w_out) + self.b_out\n",
        "\n",
        "        # step 4: activation output layer\n",
        "        a_out = self._sigmoid(z_out)\n",
        "\n",
        "        return z_h, a_h, z_out, a_out\n",
        "\n",
        "    def _compute_cost(self, y_enc, output):\n",
        "        \"\"\"Compute cost function.\n",
        "\n",
        "        Parameters\n",
        "        ----------\n",
        "        y_enc : array, shape = (n_examples, n_labels)\n",
        "            one-hot encoded class labels.\n",
        "        output : array, shape = [n_examples, n_output_units]\n",
        "            Activation of the output layer (forward propagation)\n",
        "\n",
        "        Returns\n",
        "        ---------\n",
        "        cost : float\n",
        "            Regularized cost\n",
        "\n",
        "        \"\"\"\n",
        "        L2_term = (self.l2 *\n",
        "                   (np.sum(self.w_h ** 2.) +\n",
        "                    np.sum(self.w_out ** 2.)))\n",
        "\n",
        "        term1 = -y_enc * (np.log(output))\n",
        "        term2 = (1. - y_enc) * np.log(1. - output)\n",
        "        cost = np.sum(term1 - term2) + L2_term\n",
        "\n",
        "        # If you are applying this cost function to other\n",
        "        # datasets where activation\n",
        "        # values maybe become more extreme (closer to zero or 1)\n",
        "        # you may encounter \"ZeroDivisionError\"s due to numerical\n",
        "        # instabilities in Python & NumPy for the current implementation.\n",
        "        # I.e., the code tries to evaluate log(0), which is undefined.\n",
        "        # To address this issue, you could add a small constant to the\n",
        "        # activation values that are passed to the log function.\n",
        "        #\n",
        "        # For example:\n",
        "        #\n",
        "        # term1 = -y_enc * (np.log(output + 1e-5))\n",
        "        # term2 = (1. - y_enc) * np.log(1. - output + 1e-5)\n",
        "\n",
        "        return cost\n",
        "\n",
        "\n",
        "\n",
        "    def predict(self, X):\n",
        "        \"\"\"Predict class labels\n",
        "\n",
        "        Parameters\n",
        "        -----------\n",
        "        X : array, shape = [n_examples, n_features]\n",
        "            Input layer with original features.\n",
        "\n",
        "        Returns:\n",
        "        ----------\n",
        "        y_pred : array, shape = [n_examples]\n",
        "            Predicted class labels.\n",
        "\n",
        "        \"\"\"\n",
        "        z_h, a_h, z_out, a_out = self._forward(X)\n",
        "        y_pred = np.argmax(z_out, axis=1)\n",
        "        return y_pred\n",
        "\n",
        "    def fit(self, X_train, y_train, X_valid, y_valid):\n",
        "        \"\"\" Learn weights from training data.\n",
        "\n",
        "        Parameters\n",
        "        -----------\n",
        "        X_train : array, shape = [n_examples, n_features]\n",
        "            Input layer with original features.\n",
        "        y_train : array, shape = [n_examples]\n",
        "            Target class labels.\n",
        "        X_valid : array, shape = [n_examples, n_features]\n",
        "            Sample features for validation during training\n",
        "        y_valid : array, shape = [n_examples]\n",
        "            Sample labels for validation during training\n",
        "\n",
        "        Returns:\n",
        "        ----------\n",
        "        self\n",
        "\n",
        "        \"\"\"\n",
        "        n_output = np.unique(y_train).shape[0]  # number of class labels\n",
        "        n_features = X_train.shape[1]\n",
        "\n",
        "        ########################\n",
        "        # Weight initialization\n",
        "        ########################\n",
        "\n",
        "        # weights for input -> hidden\n",
        "        self.b_h = np.zeros(self.n_hidden)\n",
        "        self.w_h = self.random.normal(loc=0.0, scale=0.1,\n",
        "                                      size=(n_features, self.n_hidden))\n",
        "\n",
        "        # weights for hidden -> output\n",
        "        self.b_out = np.zeros(n_output)\n",
        "        self.w_out = self.random.normal(loc=0.0, scale=0.1,\n",
        "                                        size=(self.n_hidden, n_output))\n",
        "\n",
        "        epoch_strlen = len(str(self.epochs))  # for progress formatting\n",
        "        self.eval_ = {'cost': [], 'train_acc': [], 'valid_acc': []}\n",
        "\n",
        "        y_train_enc = self._onehot(y_train, n_output)\n",
        "\n",
        "        # iterate over training epochs\n",
        "        for i in range(self.epochs):\n",
        "\n",
        "            # iterate over minibatches\n",
        "            indices = np.arange(X_train.shape[0])\n",
        "\n",
        "            if self.shuffle:\n",
        "                self.random.shuffle(indices)\n",
        "\n",
        "            for start_idx in range(0, indices.shape[0] - self.minibatch_size +\n",
        "                                   1, self.minibatch_size):\n",
        "                batch_idx = indices[start_idx:start_idx + self.minibatch_size]\n",
        "\n",
        "                # forward propagation\n",
        "                z_h, a_h, z_out, a_out = self._forward(X_train[batch_idx])\n",
        "\n",
        "                ##################\n",
        "                # Backpropagation\n",
        "                ##################\n",
        "\n",
        "                # [n_examples, n_classlabels]\n",
        "                delta_out = a_out - y_train_enc[batch_idx]\n",
        "\n",
        "                # [n_examples, n_hidden]\n",
        "                sigmoid_derivative_h = a_h * (1. - a_h)\n",
        "\n",
        "                # [n_examples, n_classlabels] dot [n_classlabels, n_hidden]\n",
        "                # -> [n_examples, n_hidden]\n",
        "                delta_h = (np.dot(delta_out, self.w_out.T) *\n",
        "                           sigmoid_derivative_h)\n",
        "\n",
        "                # [n_features, n_examples] dot [n_examples, n_hidden]\n",
        "                # -> [n_features, n_hidden]\n",
        "                grad_w_h = np.dot(X_train[batch_idx].T, delta_h)\n",
        "                grad_b_h = np.sum(delta_h, axis=0)\n",
        "\n",
        "                # [n_hidden, n_examples] dot [n_examples, n_classlabels]\n",
        "                # -> [n_hidden, n_classlabels]\n",
        "                grad_w_out = np.dot(a_h.T, delta_out)\n",
        "                grad_b_out = np.sum(delta_out, axis=0)\n",
        "\n",
        "                # Regularization and weight updates\n",
        "                delta_w_h = (grad_w_h + self.l2*self.w_h)\n",
        "                delta_b_h = grad_b_h # bias is not regularized\n",
        "                self.w_h -= self.eta * delta_w_h\n",
        "                self.b_h -= self.eta * delta_b_h\n",
        "\n",
        "                delta_w_out = (grad_w_out + self.l2*self.w_out)\n",
        "                delta_b_out = grad_b_out  # bias is not regularized\n",
        "                self.w_out -= self.eta * delta_w_out\n",
        "                self.b_out -= self.eta * delta_b_out\n",
        "\n",
        "            #############\n",
        "            # Evaluation\n",
        "            #############\n",
        "\n",
        "            # Evaluation after each epoch during training\n",
        "            z_h, a_h, z_out, a_out = self._forward(X_train)\n",
        "\n",
        "            cost = self._compute_cost(y_enc=y_train_enc,\n",
        "                                      output=a_out)\n",
        "\n",
        "            y_train_pred = self.predict(X_train)\n",
        "            y_valid_pred = self.predict(X_valid)\n",
        "\n",
        "            train_acc = ((np.sum(y_train == y_train_pred)).astype(np.float) /\n",
        "                         X_train.shape[0])\n",
        "            valid_acc = ((np.sum(y_valid == y_valid_pred)).astype(np.float) /\n",
        "                         X_valid.shape[0])\n",
        "\n",
        "            sys.stderr.write('\\r%0*d/%d | Cost: %.2f '\n",
        "                             '| Train/Valid Acc.: %.2f%%/%.2f%% ' %\n",
        "                             (epoch_strlen, i+1, self.epochs, cost,\n",
        "                              train_acc*100, valid_acc*100))\n",
        "            sys.stderr.flush()\n",
        "\n",
        "            self.eval_['cost'].append(cost)\n",
        "            self.eval_['train_acc'].append(train_acc)\n",
        "            self.eval_['valid_acc'].append(valid_acc)\n",
        "\n",
        "        return self"
      ],
      "execution_count": null,
      "outputs": []
    },
    {
      "cell_type": "code",
      "metadata": {
        "id": "BZdmRi9iEZfH"
      },
      "source": [
        "# build MLPs with hidden size 30, training epoch number 20, learning rate 1e-3,\n",
        "# minibatch size 1, shuffle the training data\n",
        "nn = NeuralNetMLP(n_hidden=30,\n",
        "                  l2=0,\n",
        "                  epochs= 20,\n",
        "                  eta=0.001,\n",
        "                  minibatch_size=1,\n",
        "                  shuffle=True,\n",
        "                  seed=1)\n",
        "\n",
        "nn.fit(X_train=X_train[:55000],\n",
        "       y_train=y_train[:55000],\n",
        "       X_valid=X_train[55000:],\n",
        "       y_valid=y_train[55000:])"
      ],
      "execution_count": null,
      "outputs": []
    },
    {
      "cell_type": "markdown",
      "metadata": {
        "id": "9C9vZF9CcyJo"
      },
      "source": [
        "### **Calculation of number of parameters**\n",
        "\n",
        "* inputs 784\n",
        "* hiddens 30\n",
        "* outputs 10\n",
        "\n",
        "* **input-to-hidden:** (784+1)x 30 =23550\n",
        "* **hidden-to-output:** (30+1)x 10 = 310"
      ]
    },
    {
      "cell_type": "code",
      "metadata": {
        "id": "iFZGDVklU-Wy"
      },
      "source": [
        "# Visualize training cost over all epochs (using \"nn.eval_['cost']\")\n",
        "\n",
        "plt.plot(range(nn.epochs), nn.eval_['cost'])\n",
        "plt.ylabel('Cost')\n",
        "plt.xlabel('Epochs')\n",
        "#plt.savefig('images/12_07.png', dpi=300)\n",
        "plt.show()\n"
      ],
      "execution_count": null,
      "outputs": []
    },
    {
      "cell_type": "code",
      "metadata": {
        "id": "TNsUTFWSEZfK"
      },
      "source": [
        "# Visualize training and validation accuracy over epochs (using \"nn.eval_['train_acc'] and nn.eval_['valid_acc']\")\n",
        "plt.plot(range(nn.epochs), nn.eval_['train_acc'],\n",
        "         label='Training')\n",
        "plt.plot(range(nn.epochs), nn.eval_['valid_acc'],\n",
        "         label='Validation', linestyle='--')\n",
        "plt.ylabel('Accuracy')\n",
        "plt.xlabel('Epochs')\n",
        "plt.legend(loc='lower right')\n",
        "plt.show()"
      ],
      "execution_count": null,
      "outputs": []
    },
    {
      "cell_type": "code",
      "metadata": {
        "id": "F7r74gfBEZfN"
      },
      "source": [
        "# Apply the trained neural networks to predict the test data (X_test), and print the final test accuracy.\n",
        "y_test_pred = nn.predict(X_test)\n",
        "acc = (np.sum(y_test == y_test_pred)\n",
        "       .astype(np.float) / X_test.shape[0])\n",
        "\n",
        "print('Test accuracy: %.2f%%' % (acc * 100))\n"
      ],
      "execution_count": null,
      "outputs": []
    },
    {
      "cell_type": "code",
      "metadata": {
        "id": "iX0oUvzlEZfP"
      },
      "source": [
        "# visualize the first 25 mis-classified images during the testing stage.\n",
        "\n",
        "miscl_img = X_test[y_test != y_test_pred][:25]\n",
        "correct_lab = y_test[y_test != y_test_pred][:25]\n",
        "miscl_lab = y_test_pred[y_test != y_test_pred][:25]\n",
        "\n",
        "fig, ax = plt.subplots(nrows=5, ncols=5, sharex=True, sharey=True)\n",
        "ax = ax.flatten()\n",
        "for i in range(25):\n",
        "    img = miscl_img[i].reshape(28, 28)\n",
        "    ax[i].imshow(img, cmap='Greys', interpolation='nearest')\n",
        "    ax[i].set_title('%d) t: %d p: %d' % (i+1, correct_lab.values[i], miscl_lab[i]))\n",
        "\n",
        "ax[0].set_xticks([])\n",
        "ax[0].set_yticks([])\n",
        "plt.tight_layout()\n",
        "#plt.savefig('images/12_09.png', dpi=300)\n",
        "plt.show()"
      ],
      "execution_count": null,
      "outputs": []
    },
    {
      "cell_type": "markdown",
      "metadata": {
        "id": "6R0-x-x0EZfQ"
      },
      "source": [
        "<br>\n",
        "<br>"
      ]
    },
    {
      "cell_type": "markdown",
      "metadata": {
        "id": "tZrOz4HqEZfU"
      },
      "source": [
        "<br>\n",
        "<br>"
      ]
    }
  ]
}